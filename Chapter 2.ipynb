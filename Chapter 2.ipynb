{
 "cells": [
  {
   "cell_type": "markdown",
   "metadata": {},
   "source": [
    "## Solution 2.24"
   ]
  },
  {
   "cell_type": "markdown",
   "metadata": {},
   "source": [
    "We want to show that the inverse of a partitioned matrix is"
   ]
  },
  {
   "cell_type": "markdown",
   "metadata": {},
   "source": [
    "$$\\begin{bmatrix}\n",
    "A & B \\\\ \n",
    "C & D\n",
    "\\end{bmatrix}^{-1}$$\n",
    "=\n",
    "$$\\begin{bmatrix}\n",
    "M & -MBD^{-1} \\\\ \n",
    "-D^{-1}CMD^{-1} & D^{-1}CMBD^{-1}\n",
    "\\end{bmatrix}^{-1}$$"
   ]
  },
  {
   "cell_type": "markdown",
   "metadata": {},
   "source": [
    "Where $M = (A- BD^{-1}C)^{-1}$"
   ]
  },
  {
   "cell_type": "markdown",
   "metadata": {},
   "source": [
    "Note that the property of $(A+B)^{-1} = (A^{-1} + B^{-1})$ does not apply, because it's not true for real numbers"
   ]
  },
  {
   "cell_type": "markdown",
   "metadata": {},
   "source": [
    "We also want to be sure a partitioned matrix works the way a normal matrix does, since we show this equality by multiplying both sides by $$\\begin{bmatrix}\n",
    "A & B \\\\ \n",
    "C & D\n",
    "\\end{bmatrix}$$"
   ]
  },
  {
   "cell_type": "code",
   "execution_count": null,
   "metadata": {},
   "outputs": [],
   "source": []
  }
 ],
 "metadata": {
  "kernelspec": {
   "display_name": "Python 3",
   "language": "python",
   "name": "python3"
  },
  "language_info": {
   "codemirror_mode": {
    "name": "ipython",
    "version": 3
   },
   "file_extension": ".py",
   "mimetype": "text/x-python",
   "name": "python",
   "nbconvert_exporter": "python",
   "pygments_lexer": "ipython3",
   "version": "3.7.6"
  }
 },
 "nbformat": 4,
 "nbformat_minor": 4
}
