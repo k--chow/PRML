{
 "cells": [
  {
   "cell_type": "markdown",
   "metadata": {},
   "source": [
    "# PRML Chapter 1"
   ]
  },
  {
   "cell_type": "code",
   "execution_count": 376,
   "metadata": {},
   "outputs": [],
   "source": [
    "import numpy as np\n",
    "import matplotlib.pyplot as plt\n",
    "from scipy.optimize import minimize"
   ]
  },
  {
   "cell_type": "markdown",
   "metadata": {},
   "source": [
    "## Polynomial Curve fitting\n",
    "Note there are a few types of linear models.\n",
    "\n",
    "\n",
    "\n",
    "Linear regression\n",
    "1. simple linear regression - 1D dependent variable, 1D independent variable\n",
    "    - model assumptions include Y is normally distributed and so is it's error\n",
    "2. multiple linear regression - 1D dependent variable, nD indepdnent variable\n",
    "\n",
    "General Linear model\n",
    "3. multivariate linear regression - nD dependent variable, nD independent variable\n",
    "\n",
    "\n",
    "IMPORTANT: to Linear least squares regression, there is a normal equation closed-form solution.\n",
    "- each function to minimize is CONVEX\n",
    "\n",
    "Non-linear regression\n",
    "4. cannot be described as linear model of coefficients\n",
    "\n",
    "IMPORTANT: There is usually no closed-form solution, and this requires iterative methods.\n",
    "\n",
    "Generalized Linear Model\n",
    "5. error response not only gaussian\n",
    "https://en.wikipedia.org/wiki/Generalized_linear_model\n",
    "    - link function LINKS themean of distribution and linear predictor. \n",
    "    Gaussian mean = $XB$\n",
    "    \n",
    "    \n",
    "    \n",
    "What about binomial mean and link? e.g logistic regression uses logistic function over linear model. You use linear model and then what transformation after tha?\n",
    "    \n",
    "Binomial\n",
    "Logit regression\n",
    "\n",
    "    \n",
    "    \n",
    "What is the point of a link function? https://stats.stackexchange.com/questions/48594/purpose-of-the-link-function-in-generalized-linear-model\n",
    "- The linear model shouldn't extrapolate PAST the direction of what's needed (e.g binary problem)\n",
    "Polynomial regression \n",
    "6. Still a linear model in terms of its parameters, but it's a non-linear model in terms of the data. Special case of multiple linear regression. Can be nD independent variable.\n",
    "    - other way is wavelets, splines, radial basis, etc"
   ]
  },
  {
   "cell_type": "markdown",
   "metadata": {},
   "source": [
    "# Exercise 1.1\n",
    "### Show that the coefficients that minimize $$E(w) = \\frac{1}{2}\\sum_{n=1}^{N}\\{ {{y(x_{n}, w) - t_{n}}\\}  ^{2}} $$ are given by the solution to the set of linear equations $$\\sum_{j=0}^{M} {A_{ij}w_{j} = T_{i}}$$ where $A_{ij} = \\sum_{n=1}^{N}(x_{n})^{i+j}$, $T_{i} = \\sum_{n=1}^{N}(x_{n})^{i}t_{n}$ and $y(x_{n}, w) = \\sum_{j=0}^{M} x_{n}^{j}w_{j}$"
   ]
  },
  {
   "cell_type": "markdown",
   "metadata": {},
   "source": [
    "## Solution 1.1 \n",
    "For each ${\\bf{w}} = [w_{1}, w_{2}, .. w_{i}]$ we can take the partial derivative and set it to 0. Note that we do this individually for each sub $w$.\n",
    "\n",
    "$$\\frac{\\partial{E_{w}}}{\\partial{w_{i}}} = \\sum_{j=0}^{M}(x_{n}^{i})( x_{n}^{j}w_{j} - t_{n}) = 0$$\n",
    "\n",
    "$$=\\sum_{n=1}^{N} (x_{n}^{i})\\sum_{j=0}^{M}( x_{n}^{j}w_{j}) - t_{n}$$\n",
    "\n",
    "$$=\\sum_{n=1}^{N} (\\sum_{j=0}^{M}(x_{n}^{i + j}w_{j})) - t_{n}x_{n}^{i}$$\n",
    "\n",
    "$$=\\sum_{n=1}^{N} (\\sum_{j=0}^{M}(x_{n}^{i + j}w_{j})) = t_{n}x_{n}^{i}$$\n",
    "\n",
    "And we swap the place of the sums:\n",
    "\n",
    "$$= \\sum_{j=0}^{M} \\sum_{n=1}^{N} (x_{n}^{i + j}w_{j} - t_{n}x_{n}^{i})$$\n",
    "$$=\\sum_{j=0}^{M} {A_{ij}w_{j} = T_{i}}$$\n"
   ]
  },
  {
   "cell_type": "markdown",
   "metadata": {},
   "source": [
    "## Solution 1.2\n",
    "We do almost the exact same thing.\n",
    "$$=\\sum_{n=1}^{N} (\\sum_{j=0}^{M}(x_{n}^{i + j}w_{j})) + \\lambda w_{i} = t_{n}x_{n}^{i}$$\n",
    "$$=\\sum_{n=1}^{N} (\\sum_{j=0}^{M}((x_{n}^{i + j} + I_{ij}\\lambda) w_{j})) = t_{n}x_{n}^{i}$$\n",
    "where $I_{ij} = \\begin{array}{ll}\n",
    "      1 & i = j \\\\\n",
    "      0 & i \\neq j\n",
    "\\end{array} $"
   ]
  },
  {
   "cell_type": "code",
   "execution_count": 359,
   "metadata": {},
   "outputs": [],
   "source": [
    "# generate points for sin(2*pi*x)\n",
    "# needs to be random space\n",
    "data_points = 100\n",
    "x_samples = np.random.random(data_points)\n"
   ]
  },
  {
   "cell_type": "markdown",
   "metadata": {},
   "source": [
    "Why do we use gaussian noise?\n",
    "1. mathematically convenient\n",
    "2. central limit theorem states lots of factors and enough samples will converge to gaussian noise. Makes sense"
   ]
  },
  {
   "cell_type": "code",
   "execution_count": 372,
   "metadata": {},
   "outputs": [],
   "source": [
    "def sine(x, dp):\n",
    "    eps = 0.0001\n",
    "    noise = eps*(np.random.normal(dp))\n",
    "    return np.sin(2*np.pi*x) + noise\n",
    "\n",
    "sin_x = sine(x_samples, data_points) #add gaussian nosie "
   ]
  },
  {
   "cell_type": "code",
   "execution_count": 373,
   "metadata": {},
   "outputs": [
    {
     "data": {
      "text/plain": [
       "<matplotlib.collections.PathCollection at 0x7f759fd68510>"
      ]
     },
     "execution_count": 373,
     "metadata": {},
     "output_type": "execute_result"
    },
    {
     "data": {
      "image/png": "[encoded data removed]",
      "text/plain": [
       "<Figure size 432x288 with 1 Axes>"
      ]
     },
     "metadata": {
      "needs_background": "light"
     },
     "output_type": "display_data"
    }
   ],
   "source": [
    "plt.scatter(x_samples, sin_x)"
   ]
  },
  {
   "cell_type": "code",
   "execution_count": 374,
   "metadata": {},
   "outputs": [
    {
     "data": {
      "text/plain": [
       "array([  0.0515523 ,   7.35705457, -14.59837323,  -4.89349801,\n",
       "         4.57054642,   7.63045816,   5.53674637,   0.45617022,\n",
       "        -5.96975134])"
      ]
     },
     "execution_count": 374,
     "metadata": {},
     "output_type": "execute_result"
    }
   ],
   "source": [
    "def polynomial_regression(parameters, x):\n",
    "    return sum([(x**i)*parameters[i] for i, j in enumerate(parameters)])\n",
    "\n",
    "def polynomial_loss(parameters):\n",
    "    order = len(parameters)\n",
    "    #x = x_samples[0]\n",
    "    #y = sin_x[0]\n",
    "    y_pred = [polynomial_regression(parameters, x) for x in x_samples]\n",
    "    L = (1/2)*sum((y_pred-sin_x)**2)\n",
    "    return L\n",
    "\n",
    "def polynomial_reg_L2_loss(parameters):\n",
    "    lamb = 0.1\n",
    "    order = len(parameters)\n",
    "    y_pred = [polynomial_regression(parameters, x) for x in x_samples]\n",
    "    L = (1/2)*sum((y_pred-sin_x)**2) + (lamb/2)*np.linalg.norm(parameters)\n",
    "    return L\n",
    "\n",
    "def polynomial_reg_L0_loss(parameters):\n",
    "    lamb = 100.0\n",
    "    order = len(parameters)\n",
    "    y_pred = [polynomial_regression(parameters, x) for x in x_samples]\n",
    "    L = (1/2)*sum((y_pred-sin_x)**2) + (lamb/2)*len(parameters)\n",
    "    return L\n",
    "\n",
    "def polynomial_reg_L1_loss(parameters):\n",
    "    lamb = 0.01\n",
    "    order = len(parameters)\n",
    "    y_pred = [polynomial_regression(parameters, x) for x in x_samples]\n",
    "    L = (1/2)*sum((y_pred-sin_x)**2) + (lamb/2)*np.linalg.norm(parameters, ord=1)\n",
    "    return L\n",
    "\n",
    "params = [1,]*9\n",
    "test = minimize(polynomial_reg_L2_loss, params)\n",
    "test['x']"
   ]
  },
  {
   "cell_type": "code",
   "execution_count": 375,
   "metadata": {},
   "outputs": [
    {
     "name": "stdout",
     "output_type": "stream",
     "text": [
      "error 11.350740863853899 0.011350740863853898\n"
     ]
    },
    {
     "data": {
      "image/png": "[encoded data removed]",
      "text/plain": [
       "<Figure size 432x288 with 1 Axes>"
      ]
     },
     "metadata": {
      "needs_background": "light"
     },
     "output_type": "display_data"
    }
   ],
   "source": [
    "\n",
    "new_samples = np.random.random(data_points*10)\n",
    "plt.scatter(new_samples, [polynomial_regression(test['x'], x) for x in new_samples], color='orange')\n",
    "plt.scatter(new_samples, sine(new_samples, len(new_samples)), color='blue')\n",
    "plt.scatter(x_samples, sin_x, color='green')\n",
    "\n",
    "test_error = sum(([polynomial_regression(test['x'], x) for x in new_samples] - sine(new_samples, len(new_samples)))**2) \n",
    "print(\"error\", test_error, test_error/len(new_samples))\n",
    "      "
   ]
  },
  {
   "cell_type": "code",
   "execution_count": 191,
   "metadata": {},
   "outputs": [
    {
     "data": {
      "text/plain": [
       "<matplotlib.collections.PathCollection at 0x7f75a0b05f10>"
      ]
     },
     "execution_count": 191,
     "metadata": {},
     "output_type": "execute_result"
    },
    {
     "data": {
      "image/png": "[encoded data removed]",
      "text/plain": [
       "<Figure size 432x288 with 1 Axes>"
      ]
     },
     "metadata": {
      "needs_background": "light"
     },
     "output_type": "display_data"
    }
   ],
   "source": [
    "# watch how it overfits!\n",
    "new_samples = np.random.random(data_points*10)\n",
    "plt.scatter(new_samples, [polynomial_regression(test['x'], x) for x in new_samples], color='orange')\n",
    "plt.scatter(new_samples, sine(new_samples, len(new_samples)), color='blue')\n",
    "plt.scatter(x_samples, sin_x, color='green')"
   ]
  },
  {
   "cell_type": "markdown",
   "metadata": {},
   "source": [
    "Bishop9 notes that data should be a 5-10 multiple of the number of parameters.\n",
    "\n",
    "Later on, bayesian approaches don't overfit and show us that it adapts to the size of the dataset."
   ]
  },
  {
   "cell_type": "markdown",
   "metadata": {},
   "source": [
    "## Interesting tangents\n",
    "\n",
    "https://en.wikipedia.org/wiki/Robust_regression\n",
    "\n",
    "https://en.wikipedia.org/wiki/Robust_statistics\n",
    "\n",
    "More on L1 L2\n",
    "https://towardsdatascience.com/intuitions-on-l1-and-l2-regularisation-235f2db4c261"
   ]
  },
  {
   "cell_type": "code",
   "execution_count": 395,
   "metadata": {},
   "outputs": [],
   "source": [
    "from scipy import stats"
   ]
  },
  {
   "cell_type": "code",
   "execution_count": 471,
   "metadata": {},
   "outputs": [
    {
     "data": {
      "text/plain": [
       "(array([  22.,  170.,  677., 1739., 2719., 2615., 1450.,  482.,  105.,\n",
       "          21.]),\n",
       " array([1.49066619, 2.21100567, 2.93134516, 3.65168464, 4.37202413,\n",
       "        5.09236361, 5.81270309, 6.53304258, 7.25338206, 7.97372155,\n",
       "        8.69406103]),\n",
       " <a list of 10 Patch objects>)"
      ]
     },
     "execution_count": 471,
     "metadata": {},
     "output_type": "execute_result"
    },
    {
     "data": {
      "image/png": "[encoded data removed]",
      "text/plain": [
       "<Figure size 432x288 with 1 Axes>"
      ]
     },
     "metadata": {
      "needs_background": "light"
     },
     "output_type": "display_data"
    }
   ],
   "source": [
    "# random p_y(y)\n",
    "y = np.random.normal(5, 1, (10000)) \n",
    "plt.hist(y)"
   ]
  },
  {
   "cell_type": "code",
   "execution_count": 473,
   "metadata": {},
   "outputs": [
    {
     "data": {
      "text/plain": [
       "[<matplotlib.lines.Line2D at 0x7f759d5823d0>]"
      ]
     },
     "execution_count": 473,
     "metadata": {},
     "output_type": "execute_result"
    },
    {
     "data": {
      "image/png": "[encoded data removed]",
      "text/plain": [
       "<Figure size 432x288 with 1 Axes>"
      ]
     },
     "metadata": {
      "needs_background": "light"
     },
     "output_type": "display_data"
    }
   ],
   "source": [
    "bin_edges, hist = np.histogram(y)\n",
    "plt.plot(np.cumsum(hist))"
   ]
  },
  {
   "cell_type": "code",
   "execution_count": 435,
   "metadata": {},
   "outputs": [
    {
     "data": {
      "text/plain": [
       "array([1.26997652, 1.36199497, 1.53189017, ..., 8.21263203, 8.34009858,\n",
       "       9.0587047 ])"
      ]
     },
     "execution_count": 435,
     "metadata": {},
     "output_type": "execute_result"
    }
   ],
   "source": [
    "y_sorted"
   ]
  },
  {
   "cell_type": "code",
   "execution_count": 405,
   "metadata": {},
   "outputs": [
    {
     "name": "stdout",
     "output_type": "stream",
     "text": [
      "ModeResult(mode=array([1.12374161]), count=array([1]))\n"
     ]
    }
   ],
   "source": [
    "print(stats.mode(y))"
   ]
  },
  {
   "cell_type": "code",
   "execution_count": 486,
   "metadata": {},
   "outputs": [
    {
     "data": {
      "text/plain": [
       "(array([9.727e+03, 1.900e+02, 4.300e+01, 1.700e+01, 1.100e+01, 5.000e+00,\n",
       "        4.000e+00, 2.000e+00, 0.000e+00, 1.000e+00]),\n",
       " array([5.41756343e+01, 2.46732826e+08, 4.93465597e+08, 7.40198369e+08,\n",
       "        9.86931140e+08, 1.23366391e+09, 1.48039668e+09, 1.72712945e+09,\n",
       "        1.97386223e+09, 2.22059500e+09, 2.46732777e+09]),\n",
       " <a list of 10 Patch objects>)"
      ]
     },
     "execution_count": 486,
     "metadata": {},
     "output_type": "execute_result"
    },
    {
     "data": {
      "image/png": "[encoded data removed]",
      "text/plain": [
       "<Figure size 432x288 with 1 Axes>"
      ]
     },
     "metadata": {
      "needs_background": "light"
     },
     "output_type": "display_data"
    }
   ],
   "source": [
    "# y = x**2\n",
    "#x = np.cbrt(y)\n",
    "x = y**10\n",
    "plt.hist(x)"
   ]
  },
  {
   "cell_type": "code",
   "execution_count": 490,
   "metadata": {},
   "outputs": [
    {
     "data": {
      "text/plain": [
       "[<matplotlib.lines.Line2D at 0x7f759ceb7510>]"
      ]
     },
     "execution_count": 490,
     "metadata": {},
     "output_type": "execute_result"
    },
    {
     "data": {
      "image/png": "[encoded data removed]",
      "text/plain": [
       "<Figure size 432x288 with 1 Axes>"
      ]
     },
     "metadata": {
      "needs_background": "light"
     },
     "output_type": "display_data"
    }
   ],
   "source": [
    "bin_edges, hist = np.histogram(x)\n",
    "plt.plot(np.cumsum(hist))"
   ]
  },
  {
   "cell_type": "markdown",
   "metadata": {},
   "source": [
    "## Probability theory"
   ]
  },
  {
   "cell_type": "markdown",
   "metadata": {},
   "source": [
    "Probability densities are defined as the chance of a random variable $X$ falling within an interval $(x, x+\\delta x)$ as $p(x)\\delta x$. \n",
    "\n",
    "This stems from the idea of a cumulative distribution function of all the events contained in a probability space. By dividing up a probability density into pieces of $\\delta x$, we can get the probability of that part over the whole space.\n",
    "\n",
    "Its important that distributions have the properties of being greater than or equal to zero and normalizing to a total probability of 1.\n",
    "\n",
    "How does this relate to cumulative density functions? The normalization is that the cdf equals one.\n"
   ]
  },
  {
   "cell_type": "markdown",
   "metadata": {},
   "source": [
    "Talking about the change of variable formula, we choose a certain random variable to represent our distribution. However, we may transform that variable, and the formula has the jacobian factor, because what previously was $dy$ becomes $|\\frac{dy}{dx}|dx$. This has to do with conservation of area/mass in our probability densities."
   ]
  },
  {
   "cell_type": "markdown",
   "metadata": {},
   "source": [
    "## Solution 1.4\n",
    "We want to show that due to a jacobian factor in the change of variable formula $p_{y}(y)=p_{x}(x)|\\frac{dy}{dx}|$, the maximum extrema does not simply follow the relation $x = g(y)$.\n",
    "\n",
    "If we think about a function $f(g(y))$ and take its derivative, we get $f'(g(y))g'(y) = 0$ and so for some $\\hat{y}$ we have the maximum. \n",
    "\n",
    "We know $f'(g(y)) = 0$ because $f'(x) = 0$. So a function of this form would follow the relation $\\hat{x} = g(\\hat{y})$.\n",
    "\n",
    "However, differentiating out the change of variable formula of $p_{y}(y) = p_{x}(g(y))g'(y)$ gives\n",
    "$p_{x}(g(y))g''(y) + p'_{x}(g(y))g'(y)^{2}$, and we find that on the right hand side, we have $p'_{x}(g(y))g'(y)* g'(y)$ where we previously established equals zero. However, the left side of the equation does not necessarily equal zero, except when our change of variable is a linear function that becomes zero in the second derivative.\n",
    "\n",
    "### Demo: \n"
   ]
  },
  {
   "cell_type": "code",
   "execution_count": null,
   "metadata": {},
   "outputs": [],
   "source": []
  },
  {
   "cell_type": "code",
   "execution_count": 500,
   "metadata": {},
   "outputs": [
    {
     "data": {
      "text/plain": [
       "(array([  5.,  11.,  53., 120., 217., 259., 179., 123.,  26.,   7.]),\n",
       " array([-3.40242327, -2.76918908, -2.13595489, -1.5027207 , -0.86948651,\n",
       "        -0.23625232,  0.39698187,  1.03021606,  1.66345025,  2.29668444,\n",
       "         2.92991863]),\n",
       " <a list of 10 Patch objects>)"
      ]
     },
     "execution_count": 500,
     "metadata": {},
     "output_type": "execute_result"
    },
    {
     "data": {
      "image/png": "[encoded data removed]",
      "text/plain": [
       "<Figure size 432x288 with 1 Axes>"
      ]
     },
     "metadata": {
      "needs_background": "light"
     },
     "output_type": "display_data"
    }
   ],
   "source": [
    "x = np.random.normal(0, 1, (1000))\n",
    "\n",
    "plt.hist(x)"
   ]
  },
  {
   "cell_type": "code",
   "execution_count": 501,
   "metadata": {},
   "outputs": [
    {
     "data": {
      "text/plain": [
       "(array([  5.,  11.,  53., 120., 217., 259., 179., 123.,  26.,   7.]),\n",
       " array([3.29878836, 3.61540546, 3.93202255, 4.24863965, 4.56525674,\n",
       "        4.88187384, 5.19849093, 5.51510803, 5.83172513, 6.14834222,\n",
       "        6.46495932]),\n",
       " <a list of 10 Patch objects>)"
      ]
     },
     "execution_count": 501,
     "metadata": {},
     "output_type": "execute_result"
    },
    {
     "data": {
      "image/png": "[encoded data removed]",
      "text/plain": [
       "<Figure size 432x288 with 1 Axes>"
      ]
     },
     "metadata": {
      "needs_background": "light"
     },
     "output_type": "display_data"
    }
   ],
   "source": [
    "y = 0.5*x + 5\n",
    "plt.hist(y)"
   ]
  },
  {
   "cell_type": "code",
   "execution_count": 511,
   "metadata": {},
   "outputs": [
    {
     "name": "stderr",
     "output_type": "stream",
     "text": [
      "/home/kchow/anaconda3/lib/python3.7/site-packages/ipykernel_launcher.py:1: RuntimeWarning: invalid value encountered in log\n",
      "  \"\"\"Entry point for launching an IPython kernel.\n"
     ]
    },
    {
     "data": {
      "text/plain": [
       "(array([  4.,   5.,   4.,  15.,  26.,  51.,  83., 121., 161.,  51.]),\n",
       " array([-3.94736647, -3.28418856, -2.62101066, -1.95783276, -1.29465485,\n",
       "        -0.63147695,  0.03170095,  0.69487886,  1.35805676,  2.02123466,\n",
       "         2.68441256]),\n",
       " <a list of 10 Patch objects>)"
      ]
     },
     "execution_count": 511,
     "metadata": {},
     "output_type": "execute_result"
    },
    {
     "data": {
      "image/png": "[encoded data removed]",
      "text/plain": [
       "<Figure size 432x288 with 1 Axes>"
      ]
     },
     "metadata": {
      "needs_background": "light"
     },
     "output_type": "display_data"
    }
   ],
   "source": [
    "y = np.log(5*x)\n",
    "plt.hist(y)"
   ]
  },
  {
   "cell_type": "markdown",
   "metadata": {},
   "source": [
    "## Solution 1.5\n",
    "We want to show that $var[f] = E[f(x) - E[f(x)])^2] = E[f(x)^2] - E[f(x)]^2$"
   ]
  },
  {
   "cell_type": "markdown",
   "metadata": {},
   "source": [
    "$E[(f(x) - E[f(x)])^2] = (f(x)^2 - 2f(x)E[f(x)] + E[f(x)]^2)$"
   ]
  },
  {
   "cell_type": "markdown",
   "metadata": {},
   "source": [
    "\n",
    "$E[f(x)^2] - 2E[f(x)]E[f(x)] + E[f(x)]^2) = E[f(x)^2] - E[f(x)]^2$"
   ]
  },
  {
   "cell_type": "markdown",
   "metadata": {},
   "source": [
    "## Solution 1.6\n",
    "We want to show that if $x$ and $y$ are independent, then $cov[x, y] = 0$"
   ]
  },
  {
   "cell_type": "markdown",
   "metadata": {},
   "source": [
    "$P(x, y) = P(x)P(y)$"
   ]
  },
  {
   "cell_type": "markdown",
   "metadata": {},
   "source": [
    "$cov[x, y] = E_{x, y}[(x-E[x])(y-E[y])] = E_{x, y}[xy] - E[x]E[y]$"
   ]
  },
  {
   "cell_type": "markdown",
   "metadata": {},
   "source": [
    "The middle part equals the right because $$E_{x,y}[(xy - xE[y] - yE[x] + E[x]E[y])] = E_{x,y}[xy] - E_{x,y}[x]E[y] - E_{x,y}[y]E[x] + E[x]E[y])]$$"
   ]
  },
  {
   "cell_type": "markdown",
   "metadata": {},
   "source": [
    "$E_{x}[f(x, y)]$ means averaged over x (result is a function of y), however taking $E_{x,y}E[x]$ or $E_{x,y}E[y]$ (expectation of expectation just gives you $E[x]$ $E[y]$. Why is that?"
   ]
  },
  {
   "cell_type": "markdown",
   "metadata": {},
   "source": [
    "$E_{x,y}[(xy - xE_{x}[f(x, y)] - yE_{y}[f(x, y)] + E[x]E[y])]$"
   ]
  },
  {
   "cell_type": "markdown",
   "metadata": {},
   "source": [
    "If $x$, $y$ are independent, $P(x, y) = P(x)P(y)$. For $cov[x, y]$ to be zero, $E_{x,y}[xy] = E[x]E[y]$"
   ]
  },
  {
   "cell_type": "markdown",
   "metadata": {},
   "source": [
    "$E_{x,y}[xy] = \\int\\int_{}^{}{xy p(x, y)} dy dx = \\int\\int_{}^{}{xy p(x)p(y)} dy dx$ "
   ]
  },
  {
   "cell_type": "markdown",
   "metadata": {},
   "source": [
    "$E[x]E[y] = (\\int xp(x)dx)(\\int yp(y) dy) = \\int\\int_{}^{}{xy p(x)p(y)} dy dx$"
   ]
  },
  {
   "cell_type": "markdown",
   "metadata": {},
   "source": [
    "## Solution 1.7\n",
    "We want to show that the gaussian is normalized."
   ]
  },
  {
   "cell_type": "markdown",
   "metadata": {},
   "source": [
    "\n",
    "$\\int_{-\\infty}^{\\infty} N(x|\\mu, \\sigma^2) dx = 1$"
   ]
  },
  {
   "cell_type": "markdown",
   "metadata": {},
   "source": [
    "$N(x|\\mu, \\sigma^2) = \\frac{1}{2\\pi\\sigma^2}exp(-\\frac{1}{2\\sigma^2}(x-\\mu)^2)$"
   ]
  },
  {
   "cell_type": "markdown",
   "metadata": {},
   "source": [
    "We should take the integral of "
   ]
  },
  {
   "cell_type": "markdown",
   "metadata": {},
   "source": [
    "Then we would move from cartesian to polar coordinates for easier integration"
   ]
  },
  {
   "cell_type": "markdown",
   "metadata": {},
   "source": [
    "change of variable"
   ]
  }
 ],
 "metadata": {
  "kernelspec": {
   "display_name": "Python 3",
   "language": "python",
   "name": "python3"
  },
  "language_info": {
   "codemirror_mode": {
    "name": "ipython",
    "version": 3
   },
   "file_extension": ".py",
   "mimetype": "text/x-python",
   "name": "python",
   "nbconvert_exporter": "python",
   "pygments_lexer": "ipython3",
   "version": "3.7.6"
  }
 },
 "nbformat": 4,
 "nbformat_minor": 4
}
